{
 "cells": [
  {
   "cell_type": "code",
   "execution_count": 44,
   "metadata": {},
   "outputs": [],
   "source": [
    "import pandas as pd\n",
    "import numpy as np\n",
    "import statsmodels.formula.api as smf\n",
    "import math\n",
    "import random\n",
    "from scipy.stats import norm\n",
    "import matplotlib.pyplot as plt\n",
    "np.random.seed(42)"
   ]
  },
  {
   "cell_type": "code",
   "execution_count": 32,
   "metadata": {},
   "outputs": [
    {
     "data": {
      "text/html": [
       "<div>\n",
       "<style scoped>\n",
       "    .dataframe tbody tr th:only-of-type {\n",
       "        vertical-align: middle;\n",
       "    }\n",
       "\n",
       "    .dataframe tbody tr th {\n",
       "        vertical-align: top;\n",
       "    }\n",
       "\n",
       "    .dataframe thead th {\n",
       "        text-align: right;\n",
       "    }\n",
       "</style>\n",
       "<table border=\"1\" class=\"dataframe\">\n",
       "  <thead>\n",
       "    <tr style=\"text-align: right;\">\n",
       "      <th></th>\n",
       "      <th>ID</th>\n",
       "      <th>Group</th>\n",
       "      <th>Feature_1</th>\n",
       "      <th>Feature_2</th>\n",
       "      <th>Feature_3</th>\n",
       "    </tr>\n",
       "  </thead>\n",
       "  <tbody>\n",
       "    <tr>\n",
       "      <th>0</th>\n",
       "      <td>ID001</td>\n",
       "      <td>A</td>\n",
       "      <td>2912.232797</td>\n",
       "      <td>390.353276</td>\n",
       "      <td>6783.558026</td>\n",
       "    </tr>\n",
       "    <tr>\n",
       "      <th>1</th>\n",
       "      <td>ID002</td>\n",
       "      <td>A</td>\n",
       "      <td>2694.167168</td>\n",
       "      <td>386.676713</td>\n",
       "      <td>6136.095633</td>\n",
       "    </tr>\n",
       "    <tr>\n",
       "      <th>2</th>\n",
       "      <td>ID003</td>\n",
       "      <td>C</td>\n",
       "      <td>2598.529779</td>\n",
       "      <td>382.541555</td>\n",
       "      <td>-2222.868005</td>\n",
       "    </tr>\n",
       "    <tr>\n",
       "      <th>3</th>\n",
       "      <td>ID004</td>\n",
       "      <td>C</td>\n",
       "      <td>2942.651404</td>\n",
       "      <td>415.911653</td>\n",
       "      <td>-2517.362202</td>\n",
       "    </tr>\n",
       "    <tr>\n",
       "      <th>4</th>\n",
       "      <td>ID005</td>\n",
       "      <td>B</td>\n",
       "      <td>2402.772249</td>\n",
       "      <td>398.394268</td>\n",
       "      <td>4800.153848</td>\n",
       "    </tr>\n",
       "    <tr>\n",
       "      <th>...</th>\n",
       "      <td>...</td>\n",
       "      <td>...</td>\n",
       "      <td>...</td>\n",
       "      <td>...</td>\n",
       "      <td>...</td>\n",
       "    </tr>\n",
       "    <tr>\n",
       "      <th>795</th>\n",
       "      <td>ID796</td>\n",
       "      <td>C</td>\n",
       "      <td>2801.609941</td>\n",
       "      <td>396.113947</td>\n",
       "      <td>-2408.077607</td>\n",
       "    </tr>\n",
       "    <tr>\n",
       "      <th>796</th>\n",
       "      <td>ID797</td>\n",
       "      <td>B</td>\n",
       "      <td>2648.157633</td>\n",
       "      <td>401.818329</td>\n",
       "      <td>5306.636770</td>\n",
       "    </tr>\n",
       "    <tr>\n",
       "      <th>797</th>\n",
       "      <td>ID798</td>\n",
       "      <td>B</td>\n",
       "      <td>2018.908569</td>\n",
       "      <td>396.961664</td>\n",
       "      <td>4036.542423</td>\n",
       "    </tr>\n",
       "    <tr>\n",
       "      <th>798</th>\n",
       "      <td>ID799</td>\n",
       "      <td>A</td>\n",
       "      <td>2078.712751</td>\n",
       "      <td>407.314575</td>\n",
       "      <td>4191.883130</td>\n",
       "    </tr>\n",
       "    <tr>\n",
       "      <th>799</th>\n",
       "      <td>ID800</td>\n",
       "      <td>C</td>\n",
       "      <td>2317.934168</td>\n",
       "      <td>390.092161</td>\n",
       "      <td>-1933.464193</td>\n",
       "    </tr>\n",
       "  </tbody>\n",
       "</table>\n",
       "<p>800 rows × 5 columns</p>\n",
       "</div>"
      ],
      "text/plain": [
       "        ID Group    Feature_1   Feature_2    Feature_3\n",
       "0    ID001     A  2912.232797  390.353276  6783.558026\n",
       "1    ID002     A  2694.167168  386.676713  6136.095633\n",
       "2    ID003     C  2598.529779  382.541555 -2222.868005\n",
       "3    ID004     C  2942.651404  415.911653 -2517.362202\n",
       "4    ID005     B  2402.772249  398.394268  4800.153848\n",
       "..     ...   ...          ...         ...          ...\n",
       "795  ID796     C  2801.609941  396.113947 -2408.077607\n",
       "796  ID797     B  2648.157633  401.818329  5306.636770\n",
       "797  ID798     B  2018.908569  396.961664  4036.542423\n",
       "798  ID799     A  2078.712751  407.314575  4191.883130\n",
       "799  ID800     C  2317.934168  390.092161 -1933.464193\n",
       "\n",
       "[800 rows x 5 columns]"
      ]
     },
     "execution_count": 32,
     "metadata": {},
     "output_type": "execute_result"
    }
   ],
   "source": [
    "id_nums = [\"ID\" + str(f\"{x:03}\") for x in range(1, 801)]\n",
    "number = [random.randint(1,3) for x in range(1, 801)]\n",
    "letter = [\"A\" if x == 1 else \"B\" if x == 2 else \"C\" for x in number]\n",
    "feature_one = [np.random.default_rng().normal(2500, 300) for x in range(1, 801)]\n",
    "feature_two = [np.random.default_rng().normal(400, 15) for x in range(1, 801)]\n",
    "feature_three = [np.random.default_rng().normal(3*feature_one[x] - 5*feature_two[x], 12) if letter[x] == \"A\" else np.random.default_rng().normal(2*feature_one[x], 12) if letter[x] == \"B\" else np.random.default_rng().normal(feature_two[x] - feature_one[x], 12) for x in range(0, 800)]\n",
    "df = pd.DataFrame()\n",
    "df[\"ID\"] = id_nums\n",
    "df[\"Group\"] = letter\n",
    "df[\"Feature_1\"] = feature_one\n",
    "df[\"Feature_2\"] = feature_two\n",
    "df[\"Feature_3\"] = feature_three\n",
    "df"
   ]
  },
  {
   "cell_type": "code",
   "execution_count": 41,
   "metadata": {},
   "outputs": [
    {
     "data": {
      "text/plain": [
       "38.23228181825176"
      ]
     },
     "execution_count": 41,
     "metadata": {},
     "output_type": "execute_result"
    }
   ],
   "source": [
    "#2a\n",
    "(1 - norm.cdf(3000, 2500, 300)) * 800"
   ]
  },
  {
   "cell_type": "code",
   "execution_count": 42,
   "metadata": {},
   "outputs": [
    {
     "data": {
      "text/plain": [
       "41"
      ]
     },
     "execution_count": 42,
     "metadata": {},
     "output_type": "execute_result"
    }
   ],
   "source": [
    "#2b\n",
    "greater = df[\"Feature_1\"] >= 3000\n",
    "sum(greater)"
   ]
  },
  {
   "cell_type": "code",
   "execution_count": 43,
   "metadata": {},
   "outputs": [
    {
     "data": {
      "text/html": [
       "<div>\n",
       "<style scoped>\n",
       "    .dataframe tbody tr th:only-of-type {\n",
       "        vertical-align: middle;\n",
       "    }\n",
       "\n",
       "    .dataframe tbody tr th {\n",
       "        vertical-align: top;\n",
       "    }\n",
       "\n",
       "    .dataframe thead th {\n",
       "        text-align: right;\n",
       "    }\n",
       "</style>\n",
       "<table border=\"1\" class=\"dataframe\">\n",
       "  <thead>\n",
       "    <tr style=\"text-align: right;\">\n",
       "      <th></th>\n",
       "      <th>mean</th>\n",
       "      <th>std</th>\n",
       "    </tr>\n",
       "    <tr>\n",
       "      <th>Group</th>\n",
       "      <th></th>\n",
       "      <th></th>\n",
       "    </tr>\n",
       "  </thead>\n",
       "  <tbody>\n",
       "    <tr>\n",
       "      <th>A</th>\n",
       "      <td>5563.671998</td>\n",
       "      <td>877.007988</td>\n",
       "    </tr>\n",
       "    <tr>\n",
       "      <th>B</th>\n",
       "      <td>5022.263422</td>\n",
       "      <td>629.980162</td>\n",
       "    </tr>\n",
       "    <tr>\n",
       "      <th>C</th>\n",
       "      <td>-2103.757434</td>\n",
       "      <td>289.379779</td>\n",
       "    </tr>\n",
       "  </tbody>\n",
       "</table>\n",
       "</div>"
      ],
      "text/plain": [
       "              mean         std\n",
       "Group                         \n",
       "A      5563.671998  877.007988\n",
       "B      5022.263422  629.980162\n",
       "C     -2103.757434  289.379779"
      ]
     },
     "execution_count": 43,
     "metadata": {},
     "output_type": "execute_result"
    }
   ],
   "source": [
    "#2c\n",
    "df.groupby('Group')['Feature_3'].agg(['mean', 'std'])"
   ]
  },
  {
   "cell_type": "code",
   "execution_count": 46,
   "metadata": {},
   "outputs": [
    {
     "data": {
      "text/plain": [
       "Text(0, 0.5, 'Feature_3')"
      ]
     },
     "execution_count": 46,
     "metadata": {},
     "output_type": "execute_result"
    },
    {
     "data": {
      "image/png": "[encoded data removed]",
      "text/plain": [
       "<Figure size 640x480 with 1 Axes>"
      ]
     },
     "metadata": {},
     "output_type": "display_data"
    }
   ],
   "source": [
    "#3\n",
    "plt.scatter(df['Feature_1'], df['Feature_3'])\n",
    "plt.xlabel('Feature_1')\n",
    "plt.ylabel('Feature_3')"
   ]
  },
  {
   "cell_type": "code",
   "execution_count": 47,
   "metadata": {},
   "outputs": [],
   "source": [
    "#4\n",
    "df.to_csv('fake_data.csv', index=False)"
   ]
  }
 ],
 "metadata": {
  "kernelspec": {
   "display_name": "Python 3",
   "language": "python",
   "name": "python3"
  },
  "language_info": {
   "codemirror_mode": {
    "name": "ipython",
    "version": 3
   },
   "file_extension": ".py",
   "mimetype": "text/x-python",
   "name": "python",
   "nbconvert_exporter": "python",
   "pygments_lexer": "ipython3",
   "version": "3.11.6"
  }
 },
 "nbformat": 4,
 "nbformat_minor": 2
}
